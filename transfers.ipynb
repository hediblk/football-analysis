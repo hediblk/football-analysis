{
 "cells": [
  {
   "cell_type": "code",
   "execution_count": 1,
   "metadata": {},
   "outputs": [],
   "source": [
    "import pandas as pd\n",
    "import matplotlib.pyplot as plt\n",
    "import seaborn as sns"
   ]
  },
  {
   "cell_type": "code",
   "execution_count": 2,
   "metadata": {},
   "outputs": [
    {
     "data": {
      "application/vnd.microsoft.datawrangler.viewer.v0+json": {
       "columns": [
        {
         "name": "index",
         "rawType": "int64",
         "type": "integer"
        },
        {
         "name": "transfer_date",
         "rawType": "object",
         "type": "unknown"
        },
        {
         "name": "transfer_season",
         "rawType": "object",
         "type": "string"
        },
        {
         "name": "from_club_name",
         "rawType": "object",
         "type": "string"
        },
        {
         "name": "to_club_name",
         "rawType": "object",
         "type": "string"
        },
        {
         "name": "transfer_fee",
         "rawType": "float64",
         "type": "float"
        },
        {
         "name": "market_value_in_eur",
         "rawType": "float64",
         "type": "float"
        },
        {
         "name": "player_name",
         "rawType": "object",
         "type": "string"
        }
       ],
       "conversionMethod": "pd.DataFrame",
       "ref": "63da90b8-daf3-4f79-a330-132c3cada7b2",
       "rows": [
        [
         "0",
         "2026-06-30",
         "25/26",
         "VfB Stuttgart",
         "Bayern Munich",
         "0.0",
         "12000000.0",
         "Alexander Nübel"
        ],
        [
         "1",
         "2026-06-30",
         "25/26",
         "1.FSV Mainz 05",
         "Bayern Munich",
         "0.0",
         "4000000.0",
         "Armindo Sieb"
        ],
        [
         "2",
         "2026-06-30",
         "25/26",
         "Lazio",
         "Salernitana",
         "0.0",
         "15000000.0",
         "Boulaye Dia"
        ],
        [
         "3",
         "2026-06-30",
         "25/26",
         "APO Levadiakos",
         "Panathinaikos",
         "0.0",
         "200000.0",
         "Georgios Katris"
        ],
        [
         "4",
         "2026-01-17",
         "25/26",
         "Charlotte",
         "Galatasaray",
         "0.0",
         "8000000.0",
         "Wilfried Zaha"
        ]
       ],
       "shape": {
        "columns": 7,
        "rows": 5
       }
      },
      "text/html": [
       "<div>\n",
       "<style scoped>\n",
       "    .dataframe tbody tr th:only-of-type {\n",
       "        vertical-align: middle;\n",
       "    }\n",
       "\n",
       "    .dataframe tbody tr th {\n",
       "        vertical-align: top;\n",
       "    }\n",
       "\n",
       "    .dataframe thead th {\n",
       "        text-align: right;\n",
       "    }\n",
       "</style>\n",
       "<table border=\"1\" class=\"dataframe\">\n",
       "  <thead>\n",
       "    <tr style=\"text-align: right;\">\n",
       "      <th></th>\n",
       "      <th>transfer_date</th>\n",
       "      <th>transfer_season</th>\n",
       "      <th>from_club_name</th>\n",
       "      <th>to_club_name</th>\n",
       "      <th>transfer_fee</th>\n",
       "      <th>market_value_in_eur</th>\n",
       "      <th>player_name</th>\n",
       "    </tr>\n",
       "  </thead>\n",
       "  <tbody>\n",
       "    <tr>\n",
       "      <th>0</th>\n",
       "      <td>2026-06-30</td>\n",
       "      <td>25/26</td>\n",
       "      <td>VfB Stuttgart</td>\n",
       "      <td>Bayern Munich</td>\n",
       "      <td>0.0</td>\n",
       "      <td>12000000.0</td>\n",
       "      <td>Alexander Nübel</td>\n",
       "    </tr>\n",
       "    <tr>\n",
       "      <th>1</th>\n",
       "      <td>2026-06-30</td>\n",
       "      <td>25/26</td>\n",
       "      <td>1.FSV Mainz 05</td>\n",
       "      <td>Bayern Munich</td>\n",
       "      <td>0.0</td>\n",
       "      <td>4000000.0</td>\n",
       "      <td>Armindo Sieb</td>\n",
       "    </tr>\n",
       "    <tr>\n",
       "      <th>2</th>\n",
       "      <td>2026-06-30</td>\n",
       "      <td>25/26</td>\n",
       "      <td>Lazio</td>\n",
       "      <td>Salernitana</td>\n",
       "      <td>0.0</td>\n",
       "      <td>15000000.0</td>\n",
       "      <td>Boulaye Dia</td>\n",
       "    </tr>\n",
       "    <tr>\n",
       "      <th>3</th>\n",
       "      <td>2026-06-30</td>\n",
       "      <td>25/26</td>\n",
       "      <td>APO Levadiakos</td>\n",
       "      <td>Panathinaikos</td>\n",
       "      <td>0.0</td>\n",
       "      <td>200000.0</td>\n",
       "      <td>Georgios Katris</td>\n",
       "    </tr>\n",
       "    <tr>\n",
       "      <th>4</th>\n",
       "      <td>2026-01-17</td>\n",
       "      <td>25/26</td>\n",
       "      <td>Charlotte</td>\n",
       "      <td>Galatasaray</td>\n",
       "      <td>0.0</td>\n",
       "      <td>8000000.0</td>\n",
       "      <td>Wilfried Zaha</td>\n",
       "    </tr>\n",
       "  </tbody>\n",
       "</table>\n",
       "</div>"
      ],
      "text/plain": [
       "  transfer_date transfer_season  from_club_name   to_club_name  transfer_fee  \\\n",
       "0    2026-06-30           25/26   VfB Stuttgart  Bayern Munich           0.0   \n",
       "1    2026-06-30           25/26  1.FSV Mainz 05  Bayern Munich           0.0   \n",
       "2    2026-06-30           25/26           Lazio    Salernitana           0.0   \n",
       "3    2026-06-30           25/26  APO Levadiakos  Panathinaikos           0.0   \n",
       "4    2026-01-17           25/26       Charlotte    Galatasaray           0.0   \n",
       "\n",
       "   market_value_in_eur      player_name  \n",
       "0           12000000.0  Alexander Nübel  \n",
       "1            4000000.0     Armindo Sieb  \n",
       "2           15000000.0      Boulaye Dia  \n",
       "3             200000.0  Georgios Katris  \n",
       "4            8000000.0    Wilfried Zaha  "
      ]
     },
     "execution_count": 2,
     "metadata": {},
     "output_type": "execute_result"
    }
   ],
   "source": [
    "transfers = pd.read_csv('transfermarkt-data/transfers.csv')\n",
    "\n",
    "# remove hour and minute from transfer_date\n",
    "transfers[\"transfer_date\"] = pd.to_datetime(transfers[\"transfer_date\"])\n",
    "transfers[\"transfer_date\"] = transfers[\"transfer_date\"].dt.date\n",
    "\n",
    "\n",
    "# dropping columns that are not needed\n",
    "transfers.drop(columns=[\"player_id\", \"from_club_id\", \"to_club_id\"], inplace=True)\n",
    "transfers['transfer_fee'] = transfers['transfer_fee'].fillna(0)\n",
    "\n",
    "transfers.head()"
   ]
  },
  {
   "cell_type": "code",
   "execution_count": 3,
   "metadata": {},
   "outputs": [
    {
     "name": "stdout",
     "output_type": "stream",
     "text": [
      "<class 'pandas.core.frame.DataFrame'>\n",
      "RangeIndex: 78887 entries, 0 to 78886\n",
      "Data columns (total 7 columns):\n",
      " #   Column               Non-Null Count  Dtype  \n",
      "---  ------               --------------  -----  \n",
      " 0   transfer_date        78887 non-null  object \n",
      " 1   transfer_season      78887 non-null  object \n",
      " 2   from_club_name       78887 non-null  object \n",
      " 3   to_club_name         78887 non-null  object \n",
      " 4   transfer_fee         78887 non-null  float64\n",
      " 5   market_value_in_eur  48858 non-null  float64\n",
      " 6   player_name          78887 non-null  object \n",
      "dtypes: float64(2), object(5)\n",
      "memory usage: 4.2+ MB\n"
     ]
    }
   ],
   "source": [
    "transfers.info()"
   ]
  },
  {
   "cell_type": "markdown",
   "metadata": {},
   "source": [
    "### Retired players"
   ]
  },
  {
   "cell_type": "code",
   "execution_count": 4,
   "metadata": {},
   "outputs": [
    {
     "data": {
      "text/plain": [
       "Text(0.5, 1.0, 'Number of players retiring each year')"
      ]
     },
     "execution_count": 4,
     "metadata": {},
     "output_type": "execute_result"
    },
    {
     "data": {
      "image/png": "[encoded data removed]",
      "text/plain": [
       "<Figure size 1200x600 with 1 Axes>"
      ]
     },
     "metadata": {},
     "output_type": "display_data"
    }
   ],
   "source": [
    "retired = transfers[transfers[\"to_club_name\"] == \"Retired\"]\n",
    "\n",
    "\n",
    "plt.figure(figsize=(12, 6))\n",
    "sns.countplot(x=\"transfer_season\", data=retired, hue=\"transfer_season\", palette=\"viridis\")\n",
    "plt.title(\"Number of players retiring each year\")"
   ]
  },
  {
   "cell_type": "markdown",
   "metadata": {},
   "source": [
    "### Largest transfers"
   ]
  },
  {
   "cell_type": "code",
   "execution_count": 5,
   "metadata": {},
   "outputs": [
    {
     "data": {
      "text/plain": [
       "Text(0, 0.5, 'Player Name')"
      ]
     },
     "execution_count": 5,
     "metadata": {},
     "output_type": "execute_result"
    },
    {
     "data": {
      "image/png": "[encoded data removed]",
      "text/plain": [
       "<Figure size 1200x600 with 1 Axes>"
      ]
     },
     "metadata": {},
     "output_type": "display_data"
    }
   ],
   "source": [
    "largest = transfers.sort_values(\"transfer_fee\", ascending=False).head(10)\n",
    "largest = largest[[\"player_name\", \"transfer_fee\", \"to_club_name\"]]\n",
    "largest.set_index(\"player_name\", inplace=True)\n",
    "\n",
    "plt.figure(figsize=(12, 6))\n",
    "sns.barplot(x=\"transfer_fee\", y=largest.index, data=largest, hue=\"to_club_name\", palette=\"Paired\")\n",
    "plt.title(\"Top 10 transfers by fee\")\n",
    "plt.xlabel(\"Transfer Fee (in 100 million euros)\")\n",
    "plt.ylabel(\"Player Name\")"
   ]
  },
  {
   "cell_type": "markdown",
   "metadata": {},
   "source": [
    "### transfers fee evolution"
   ]
  },
  {
   "cell_type": "code",
   "execution_count": 6,
   "metadata": {},
   "outputs": [
    {
     "data": {
      "text/plain": [
       "Text(0, 0.5, 'Average Transfer Fee (in million euros)')"
      ]
     },
     "execution_count": 6,
     "metadata": {},
     "output_type": "execute_result"
    },
    {
     "data": {
      "image/png": "[encoded data removed]",
      "text/plain": [
       "<Figure size 1200x600 with 1 Axes>"
      ]
     },
     "metadata": {},
     "output_type": "display_data"
    }
   ],
   "source": [
    "plt.figure(figsize=(12, 6))\n",
    "sns.lineplot(x=\"transfer_season\", y=\"transfer_fee\", data=transfers)\n",
    "plt.title(\"Average transfer fee through the years\")\n",
    "plt.xlabel(\"Year\")\n",
    "plt.xticks(rotation=45, fontsize=10)\n",
    "plt.ylabel(\"Average Transfer Fee (in million euros)\")"
   ]
  },
  {
   "cell_type": "markdown",
   "metadata": {},
   "source": [
    "### All transfers involving FC Barcelona"
   ]
  },
  {
   "cell_type": "code",
   "execution_count": 7,
   "metadata": {},
   "outputs": [
    {
     "data": {
      "application/vnd.microsoft.datawrangler.viewer.v0+json": {
       "columns": [
        {
         "name": "index",
         "rawType": "int64",
         "type": "integer"
        },
        {
         "name": "player_name",
         "rawType": "object",
         "type": "string"
        },
        {
         "name": "from_club_name",
         "rawType": "object",
         "type": "string"
        },
        {
         "name": "transfer_fee",
         "rawType": "float64",
         "type": "float"
        },
        {
         "name": "transfer_season",
         "rawType": "object",
         "type": "string"
        }
       ],
       "conversionMethod": "pd.DataFrame",
       "ref": "98a393f0-b820-4833-9917-5aaad78afb8d",
       "rows": [
        [
         "2256",
         "Dani Olmo",
         "RB Leipzig",
         "55000000.0",
         "24/25"
        ],
        [
         "2630",
         "Pau Víctor",
         "Girona",
         "2700000.0",
         "24/25"
        ],
        [
         "50",
         "Oriol Romeu",
         "Girona",
         "0.0",
         "24/25"
        ],
        [
         "76",
         "Clément Lenglet",
         "Atlético Madrid",
         "0.0",
         "24/25"
        ],
        [
         "510",
         "Álex Valle",
         "Celtic",
         "0.0",
         "24/25"
        ],
        [
         "683",
         "Vitor Roque",
         "Real Betis",
         "0.0",
         "24/25"
        ],
        [
         "1437",
         "Wojciech Szczesny",
         "Career break",
         "0.0",
         "24/25"
        ],
        [
         "4802",
         "Marc Casadó",
         "Barça Atlètic",
         "0.0",
         "24/25"
        ],
        [
         "4844",
         "Mikayil Faye",
         "Barça Atlètic",
         "0.0",
         "24/25"
        ],
        [
         "4903",
         "Gerard Martín",
         "Barça Atlètic",
         "0.0",
         "24/25"
        ],
        [
         "5247",
         "Héctor Fort",
         "Barça Atlètic",
         "0.0",
         "24/25"
        ],
        [
         "5357",
         "Marc Bernal",
         "Barça Atlètic",
         "0.0",
         "24/25"
        ],
        [
         "9189",
         "Vitor Roque",
         "Athletico-PR",
         "30000000.0",
         "23/24"
        ],
        [
         "11589",
         "Oriol Romeu",
         "Girona",
         "3400000.0",
         "23/24"
        ],
        [
         "5613",
         "Clément Lenglet",
         "Aston Villa",
         "0.0",
         "23/24"
        ],
        [
         "5843",
         "Sergiño Dest",
         "PSV Eindhoven",
         "0.0",
         "23/24"
        ],
        [
         "6020",
         "Eric García",
         "Girona",
         "0.0",
         "23/24"
        ],
        [
         "6021",
         "Ansu Fati",
         "Brighton",
         "0.0",
         "23/24"
        ],
        [
         "6101",
         "Julián Araujo",
         "UD Las Palmas",
         "0.0",
         "23/24"
        ],
        [
         "6407",
         "Chadi Riad",
         "Real Betis",
         "0.0",
         "23/24"
        ],
        [
         "6450",
         "Álex Valle",
         "Levante",
         "0.0",
         "23/24"
        ],
        [
         "6470",
         "Pablo Torre",
         "Girona",
         "0.0",
         "23/24"
        ],
        [
         "9186",
         "Marc Guiu",
         "Barça U19",
         "0.0",
         "23/24"
        ],
        [
         "9194",
         "Pau Cubarsí",
         "Barça Atlètic",
         "0.0",
         "23/24"
        ],
        [
         "9794",
         "João Cancelo",
         "Man City",
         "0.0",
         "23/24"
        ],
        [
         "9888",
         "João Félix",
         "Atlético Madrid",
         "0.0",
         "23/24"
        ],
        [
         "12117",
         "Iñigo Martínez",
         "Athletic",
         "0.0",
         "23/24"
        ],
        [
         "12304",
         "İlkay Gündoğan",
         "Man City",
         "0.0",
         "23/24"
        ],
        [
         "12806",
         "Julián Araujo",
         "Barça Atlètic",
         "0.0",
         "23/24"
        ],
        [
         "12968",
         "Fermín López",
         "Barça Atlètic",
         "0.0",
         "23/24"
        ],
        [
         "13063",
         "Chadi Riad",
         "Barça Atlètic",
         "0.0",
         "23/24"
        ],
        [
         "13111",
         "Álex Valle",
         "Barça Atlètic",
         "0.0",
         "23/24"
        ],
        [
         "13569",
         "Lamine Yamal",
         "Barça U19",
         "0.0",
         "23/24"
        ],
        [
         "19295",
         "Raphinha",
         "Leeds",
         "58000000.0",
         "22/23"
        ],
        [
         "18775",
         "Jules Koundé",
         "Sevilla FC",
         "50000000.0",
         "22/23"
        ],
        [
         "19047",
         "Robert Lewandowski",
         "Bayern Munich",
         "45000000.0",
         "22/23"
        ],
        [
         "20998",
         "Pablo Torre",
         "Racing",
         "5000000.0",
         "22/23"
        ],
        [
         "14060",
         "Antoine Griezmann",
         "Atlético Madrid",
         "0.0",
         "22/23"
        ],
        [
         "14061",
         "Samuel Umtiti",
         "Lecce",
         "0.0",
         "22/23"
        ],
        [
         "14109",
         "Clément Lenglet",
         "Tottenham",
         "0.0",
         "22/23"
        ],
        [
         "14351",
         "Sergiño Dest",
         "AC Milan",
         "0.0",
         "22/23"
        ],
        [
         "14443",
         "Trincão",
         "Sporting CP",
         "0.0",
         "22/23"
        ],
        [
         "14527",
         "Nico González",
         "Valencia",
         "0.0",
         "22/23"
        ],
        [
         "14969",
         "Abde Ezzalzouli",
         "CA Osasuna",
         "0.0",
         "22/23"
        ],
        [
         "17550",
         "Marcos Alonso",
         "Chelsea",
         "0.0",
         "22/23"
        ],
        [
         "17575",
         "Héctor Bellerín",
         "Arsenal",
         "0.0",
         "22/23"
        ],
        [
         "19632",
         "Andreas Christensen",
         "Chelsea",
         "0.0",
         "22/23"
        ],
        [
         "20731",
         "Alejandro Balde",
         "Barça Atlètic",
         "0.0",
         "22/23"
        ],
        [
         "21020",
         "Abde Ezzalzouli",
         "Barça Atlètic",
         "0.0",
         "22/23"
        ],
        [
         "24718",
         "Ferran Torres",
         "Man City",
         "55000000.0",
         "21/22"
        ]
       ],
       "shape": {
        "columns": 4,
        "rows": 143
       }
      },
      "text/html": [
       "<div>\n",
       "<style scoped>\n",
       "    .dataframe tbody tr th:only-of-type {\n",
       "        vertical-align: middle;\n",
       "    }\n",
       "\n",
       "    .dataframe tbody tr th {\n",
       "        vertical-align: top;\n",
       "    }\n",
       "\n",
       "    .dataframe thead th {\n",
       "        text-align: right;\n",
       "    }\n",
       "</style>\n",
       "<table border=\"1\" class=\"dataframe\">\n",
       "  <thead>\n",
       "    <tr style=\"text-align: right;\">\n",
       "      <th></th>\n",
       "      <th>player_name</th>\n",
       "      <th>from_club_name</th>\n",
       "      <th>transfer_fee</th>\n",
       "      <th>transfer_season</th>\n",
       "    </tr>\n",
       "  </thead>\n",
       "  <tbody>\n",
       "    <tr>\n",
       "      <th>2256</th>\n",
       "      <td>Dani Olmo</td>\n",
       "      <td>RB Leipzig</td>\n",
       "      <td>55000000.0</td>\n",
       "      <td>24/25</td>\n",
       "    </tr>\n",
       "    <tr>\n",
       "      <th>2630</th>\n",
       "      <td>Pau Víctor</td>\n",
       "      <td>Girona</td>\n",
       "      <td>2700000.0</td>\n",
       "      <td>24/25</td>\n",
       "    </tr>\n",
       "    <tr>\n",
       "      <th>50</th>\n",
       "      <td>Oriol Romeu</td>\n",
       "      <td>Girona</td>\n",
       "      <td>0.0</td>\n",
       "      <td>24/25</td>\n",
       "    </tr>\n",
       "    <tr>\n",
       "      <th>76</th>\n",
       "      <td>Clément Lenglet</td>\n",
       "      <td>Atlético Madrid</td>\n",
       "      <td>0.0</td>\n",
       "      <td>24/25</td>\n",
       "    </tr>\n",
       "    <tr>\n",
       "      <th>510</th>\n",
       "      <td>Álex Valle</td>\n",
       "      <td>Celtic</td>\n",
       "      <td>0.0</td>\n",
       "      <td>24/25</td>\n",
       "    </tr>\n",
       "    <tr>\n",
       "      <th>...</th>\n",
       "      <td>...</td>\n",
       "      <td>...</td>\n",
       "      <td>...</td>\n",
       "      <td>...</td>\n",
       "    </tr>\n",
       "    <tr>\n",
       "      <th>72032</th>\n",
       "      <td>Alexis Sánchez</td>\n",
       "      <td>Udinese Calcio</td>\n",
       "      <td>26000000.0</td>\n",
       "      <td>11/12</td>\n",
       "    </tr>\n",
       "    <tr>\n",
       "      <th>72142</th>\n",
       "      <td>Thiago Alcántara</td>\n",
       "      <td>Barcelona B</td>\n",
       "      <td>0.0</td>\n",
       "      <td>11/12</td>\n",
       "    </tr>\n",
       "    <tr>\n",
       "      <th>75103</th>\n",
       "      <td>Dmytro Chygrynskyi</td>\n",
       "      <td>Shakhtar D.</td>\n",
       "      <td>25000000.0</td>\n",
       "      <td>09/10</td>\n",
       "    </tr>\n",
       "    <tr>\n",
       "      <th>76879</th>\n",
       "      <td>Pedro</td>\n",
       "      <td>Barcelona B</td>\n",
       "      <td>0.0</td>\n",
       "      <td>07/08</td>\n",
       "    </tr>\n",
       "    <tr>\n",
       "      <th>78809</th>\n",
       "      <td>Pepe Reina</td>\n",
       "      <td>Barcelona B</td>\n",
       "      <td>0.0</td>\n",
       "      <td>00/01</td>\n",
       "    </tr>\n",
       "  </tbody>\n",
       "</table>\n",
       "<p>143 rows × 4 columns</p>\n",
       "</div>"
      ],
      "text/plain": [
       "              player_name   from_club_name  transfer_fee transfer_season\n",
       "2256            Dani Olmo       RB Leipzig    55000000.0           24/25\n",
       "2630           Pau Víctor           Girona     2700000.0           24/25\n",
       "50            Oriol Romeu           Girona           0.0           24/25\n",
       "76        Clément Lenglet  Atlético Madrid           0.0           24/25\n",
       "510            Álex Valle           Celtic           0.0           24/25\n",
       "...                   ...              ...           ...             ...\n",
       "72032      Alexis Sánchez   Udinese Calcio    26000000.0           11/12\n",
       "72142    Thiago Alcántara      Barcelona B           0.0           11/12\n",
       "75103  Dmytro Chygrynskyi      Shakhtar D.    25000000.0           09/10\n",
       "76879               Pedro      Barcelona B           0.0           07/08\n",
       "78809          Pepe Reina      Barcelona B           0.0           00/01\n",
       "\n",
       "[143 rows x 4 columns]"
      ]
     },
     "execution_count": 7,
     "metadata": {},
     "output_type": "execute_result"
    }
   ],
   "source": [
    "barcelona = transfers[transfers[\"to_club_name\"] == \"Barcelona\"]\n",
    "\n",
    "barcelona[['player_name', 'from_club_name','transfer_fee', 'transfer_season']].sort_values(['transfer_season', 'transfer_fee'], ascending=[False, False])\n"
   ]
  },
  {
   "cell_type": "markdown",
   "metadata": {},
   "source": [
    "### Most transfers between a pair of clubs"
   ]
  },
  {
   "cell_type": "code",
   "execution_count": 12,
   "metadata": {},
   "outputs": [
    {
     "data": {
      "text/plain": [
       "from_club_name   to_club_name   \n",
       "Ajax Youth       Ajax U17           81\n",
       "Benfica U17      Benfica U19        79\n",
       "Benfica U15      Benfica U17        76\n",
       "Sporting Sub-15  Sporting U17       75\n",
       "Benfica Yth      Benfica U15        72\n",
       "Sporting Yth.    Sporting Sub-15    70\n",
       "Sporting U17     Sporting U19       67\n",
       "Barça Youth      Barça U16          65\n",
       "Paris SG U17     Paris SG U19       65\n",
       "Dynamo Kyiv U17  Dynamo Kyiv U19    63\n",
       "dtype: int64"
      ]
     },
     "execution_count": 12,
     "metadata": {},
     "output_type": "execute_result"
    }
   ],
   "source": [
    "transfers.groupby([\"from_club_name\", \"to_club_name\"]).size().sort_values(ascending=False).head(10)"
   ]
  },
  {
   "cell_type": "markdown",
   "metadata": {},
   "source": [
    "comment: not really relevant because those are pairs of clubs with their own junior academies"
   ]
  }
 ],
 "metadata": {
  "kernelspec": {
   "display_name": "Python 3",
   "language": "python",
   "name": "python3"
  },
  "language_info": {
   "codemirror_mode": {
    "name": "ipython",
    "version": 3
   },
   "file_extension": ".py",
   "mimetype": "text/x-python",
   "name": "python",
   "nbconvert_exporter": "python",
   "pygments_lexer": "ipython3",
   "version": "3.11.3"
  }
 },
 "nbformat": 4,
 "nbformat_minor": 2
}
