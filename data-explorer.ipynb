{
 "cells": [
  {
   "cell_type": "code",
   "execution_count": 11,
   "metadata": {},
   "outputs": [],
   "source": [
    "import pandas as pd\n",
    "import matplotlib.pyplot as plt\n",
    "import seaborn as sns"
   ]
  },
  {
   "cell_type": "code",
   "execution_count": 12,
   "metadata": {},
   "outputs": [
    {
     "data": {
      "application/vnd.microsoft.datawrangler.viewer.v0+json": {
       "columns": [
        {
         "name": "index",
         "rawType": "int64",
         "type": "integer"
        },
        {
         "name": "transfer_date",
         "rawType": "datetime64[ns]",
         "type": "datetime"
        },
        {
         "name": "transfer_season",
         "rawType": "object",
         "type": "string"
        },
        {
         "name": "from_club_name",
         "rawType": "object",
         "type": "string"
        },
        {
         "name": "to_club_name",
         "rawType": "object",
         "type": "string"
        },
        {
         "name": "transfer_fee",
         "rawType": "float64",
         "type": "float"
        },
        {
         "name": "market_value_in_eur",
         "rawType": "float64",
         "type": "float"
        },
        {
         "name": "player_name",
         "rawType": "object",
         "type": "string"
        },
        {
         "name": "transfer_year",
         "rawType": "int32",
         "type": "integer"
        }
       ],
       "conversionMethod": "pd.DataFrame",
       "ref": "2800e01d-d4a3-4304-98da-dba7c5fa8b29",
       "rows": [
        [
         "0",
         "2026-06-30 00:00:00",
         "25/26",
         "VfB Stuttgart",
         "Bayern Munich",
         "0.0",
         "12000000.0",
         "Alexander Nübel",
         "2026"
        ],
        [
         "1",
         "2026-06-30 00:00:00",
         "25/26",
         "1.FSV Mainz 05",
         "Bayern Munich",
         "0.0",
         "4000000.0",
         "Armindo Sieb",
         "2026"
        ],
        [
         "2",
         "2026-06-30 00:00:00",
         "25/26",
         "Lazio",
         "Salernitana",
         "0.0",
         "15000000.0",
         "Boulaye Dia",
         "2026"
        ],
        [
         "3",
         "2026-06-30 00:00:00",
         "25/26",
         "APO Levadiakos",
         "Panathinaikos",
         "0.0",
         "200000.0",
         "Georgios Katris",
         "2026"
        ],
        [
         "4",
         "2026-01-17 00:00:00",
         "25/26",
         "Charlotte",
         "Galatasaray",
         "0.0",
         "8000000.0",
         "Wilfried Zaha",
         "2026"
        ]
       ],
       "shape": {
        "columns": 8,
        "rows": 5
       }
      },
      "text/html": [
       "<div>\n",
       "<style scoped>\n",
       "    .dataframe tbody tr th:only-of-type {\n",
       "        vertical-align: middle;\n",
       "    }\n",
       "\n",
       "    .dataframe tbody tr th {\n",
       "        vertical-align: top;\n",
       "    }\n",
       "\n",
       "    .dataframe thead th {\n",
       "        text-align: right;\n",
       "    }\n",
       "</style>\n",
       "<table border=\"1\" class=\"dataframe\">\n",
       "  <thead>\n",
       "    <tr style=\"text-align: right;\">\n",
       "      <th></th>\n",
       "      <th>transfer_date</th>\n",
       "      <th>transfer_season</th>\n",
       "      <th>from_club_name</th>\n",
       "      <th>to_club_name</th>\n",
       "      <th>transfer_fee</th>\n",
       "      <th>market_value_in_eur</th>\n",
       "      <th>player_name</th>\n",
       "      <th>transfer_year</th>\n",
       "    </tr>\n",
       "  </thead>\n",
       "  <tbody>\n",
       "    <tr>\n",
       "      <th>0</th>\n",
       "      <td>2026-06-30</td>\n",
       "      <td>25/26</td>\n",
       "      <td>VfB Stuttgart</td>\n",
       "      <td>Bayern Munich</td>\n",
       "      <td>0.0</td>\n",
       "      <td>12000000.0</td>\n",
       "      <td>Alexander Nübel</td>\n",
       "      <td>2026</td>\n",
       "    </tr>\n",
       "    <tr>\n",
       "      <th>1</th>\n",
       "      <td>2026-06-30</td>\n",
       "      <td>25/26</td>\n",
       "      <td>1.FSV Mainz 05</td>\n",
       "      <td>Bayern Munich</td>\n",
       "      <td>0.0</td>\n",
       "      <td>4000000.0</td>\n",
       "      <td>Armindo Sieb</td>\n",
       "      <td>2026</td>\n",
       "    </tr>\n",
       "    <tr>\n",
       "      <th>2</th>\n",
       "      <td>2026-06-30</td>\n",
       "      <td>25/26</td>\n",
       "      <td>Lazio</td>\n",
       "      <td>Salernitana</td>\n",
       "      <td>0.0</td>\n",
       "      <td>15000000.0</td>\n",
       "      <td>Boulaye Dia</td>\n",
       "      <td>2026</td>\n",
       "    </tr>\n",
       "    <tr>\n",
       "      <th>3</th>\n",
       "      <td>2026-06-30</td>\n",
       "      <td>25/26</td>\n",
       "      <td>APO Levadiakos</td>\n",
       "      <td>Panathinaikos</td>\n",
       "      <td>0.0</td>\n",
       "      <td>200000.0</td>\n",
       "      <td>Georgios Katris</td>\n",
       "      <td>2026</td>\n",
       "    </tr>\n",
       "    <tr>\n",
       "      <th>4</th>\n",
       "      <td>2026-01-17</td>\n",
       "      <td>25/26</td>\n",
       "      <td>Charlotte</td>\n",
       "      <td>Galatasaray</td>\n",
       "      <td>0.0</td>\n",
       "      <td>8000000.0</td>\n",
       "      <td>Wilfried Zaha</td>\n",
       "      <td>2026</td>\n",
       "    </tr>\n",
       "  </tbody>\n",
       "</table>\n",
       "</div>"
      ],
      "text/plain": [
       "  transfer_date transfer_season  from_club_name   to_club_name  transfer_fee  \\\n",
       "0    2026-06-30           25/26   VfB Stuttgart  Bayern Munich           0.0   \n",
       "1    2026-06-30           25/26  1.FSV Mainz 05  Bayern Munich           0.0   \n",
       "2    2026-06-30           25/26           Lazio    Salernitana           0.0   \n",
       "3    2026-06-30           25/26  APO Levadiakos  Panathinaikos           0.0   \n",
       "4    2026-01-17           25/26       Charlotte    Galatasaray           0.0   \n",
       "\n",
       "   market_value_in_eur      player_name  transfer_year  \n",
       "0           12000000.0  Alexander Nübel           2026  \n",
       "1            4000000.0     Armindo Sieb           2026  \n",
       "2           15000000.0      Boulaye Dia           2026  \n",
       "3             200000.0  Georgios Katris           2026  \n",
       "4            8000000.0    Wilfried Zaha           2026  "
      ]
     },
     "execution_count": 12,
     "metadata": {},
     "output_type": "execute_result"
    }
   ],
   "source": [
    "transfers = pd.read_csv('transfermarkt-data/transfers.csv')\n",
    "transfers[\"transfer_date\"] = pd.to_datetime(transfers[\"transfer_date\"])\n",
    "transfers[\"transfer_year\"] = transfers[\"transfer_date\"].dt.year\n",
    "\n",
    "# dropping columns that are not needed\n",
    "transfers.drop(columns=[\"player_id\", \"from_club_id\", \"to_club_id\"], inplace=True)\n",
    "\n",
    "transfers.head()"
   ]
  },
  {
   "cell_type": "code",
   "execution_count": 15,
   "metadata": {},
   "outputs": [
    {
     "name": "stdout",
     "output_type": "stream",
     "text": [
      "<class 'pandas.core.frame.DataFrame'>\n",
      "RangeIndex: 78887 entries, 0 to 78886\n",
      "Data columns (total 8 columns):\n",
      " #   Column               Non-Null Count  Dtype         \n",
      "---  ------               --------------  -----         \n",
      " 0   transfer_date        78887 non-null  datetime64[ns]\n",
      " 1   transfer_season      78887 non-null  object        \n",
      " 2   from_club_name       78887 non-null  object        \n",
      " 3   to_club_name         78887 non-null  object        \n",
      " 4   transfer_fee         51385 non-null  float64       \n",
      " 5   market_value_in_eur  48858 non-null  float64       \n",
      " 6   player_name          78887 non-null  object        \n",
      " 7   transfer_year        78887 non-null  int32         \n",
      "dtypes: datetime64[ns](1), float64(2), int32(1), object(4)\n",
      "memory usage: 4.5+ MB\n"
     ]
    }
   ],
   "source": [
    "transfers.info()"
   ]
  },
  {
   "cell_type": "code",
   "execution_count": 28,
   "metadata": {},
   "outputs": [
    {
     "data": {
      "application/vnd.microsoft.datawrangler.viewer.v0+json": {
       "columns": [
        {
         "name": "index",
         "rawType": "int64",
         "type": "integer"
        },
        {
         "name": "transfer_date",
         "rawType": "datetime64[ns]",
         "type": "datetime"
        },
        {
         "name": "transfer_season",
         "rawType": "object",
         "type": "string"
        },
        {
         "name": "from_club_name",
         "rawType": "object",
         "type": "string"
        },
        {
         "name": "to_club_name",
         "rawType": "object",
         "type": "string"
        },
        {
         "name": "transfer_fee",
         "rawType": "float64",
         "type": "float"
        },
        {
         "name": "market_value_in_eur",
         "rawType": "float64",
         "type": "float"
        },
        {
         "name": "player_name",
         "rawType": "object",
         "type": "string"
        },
        {
         "name": "transfer_year",
         "rawType": "int32",
         "type": "integer"
        }
       ],
       "conversionMethod": "pd.DataFrame",
       "ref": "f7b14f0a-8a97-47e1-bffe-8b707e9412d8",
       "rows": [
        [
         "16",
         "2025-07-01 00:00:00",
         "25/26",
         "NEC Nijmegen",
         "Retired",
         null,
         "150000.0",
         "Lasse Schöne",
         "2025"
        ],
        [
         "17",
         "2025-07-01 00:00:00",
         "25/26",
         "Royal Antwerp",
         "Retired",
         null,
         "2200000.0",
         "Toby Alderweireld",
         "2025"
        ],
        [
         "18",
         "2025-07-01 00:00:00",
         "25/26",
         "Khimki",
         "Retired",
         null,
         "100000.0",
         "Denis Glushakov",
         "2025"
        ],
        [
         "1228",
         "2025-01-01 00:00:00",
         "24/25",
         "Sevilla FC",
         "Retired",
         null,
         "2500000.0",
         "Jesús Navas",
         "2025"
        ],
        [
         "3176",
         "2024-07-11 00:00:00",
         "24/25",
         "RWDM",
         "Retired",
         null,
         "250000.0",
         "Xavier Mercier",
         "2024"
        ]
       ],
       "shape": {
        "columns": 8,
        "rows": 5
       }
      },
      "text/html": [
       "<div>\n",
       "<style scoped>\n",
       "    .dataframe tbody tr th:only-of-type {\n",
       "        vertical-align: middle;\n",
       "    }\n",
       "\n",
       "    .dataframe tbody tr th {\n",
       "        vertical-align: top;\n",
       "    }\n",
       "\n",
       "    .dataframe thead th {\n",
       "        text-align: right;\n",
       "    }\n",
       "</style>\n",
       "<table border=\"1\" class=\"dataframe\">\n",
       "  <thead>\n",
       "    <tr style=\"text-align: right;\">\n",
       "      <th></th>\n",
       "      <th>transfer_date</th>\n",
       "      <th>transfer_season</th>\n",
       "      <th>from_club_name</th>\n",
       "      <th>to_club_name</th>\n",
       "      <th>transfer_fee</th>\n",
       "      <th>market_value_in_eur</th>\n",
       "      <th>player_name</th>\n",
       "      <th>transfer_year</th>\n",
       "    </tr>\n",
       "  </thead>\n",
       "  <tbody>\n",
       "    <tr>\n",
       "      <th>16</th>\n",
       "      <td>2025-07-01</td>\n",
       "      <td>25/26</td>\n",
       "      <td>NEC Nijmegen</td>\n",
       "      <td>Retired</td>\n",
       "      <td>NaN</td>\n",
       "      <td>150000.0</td>\n",
       "      <td>Lasse Schöne</td>\n",
       "      <td>2025</td>\n",
       "    </tr>\n",
       "    <tr>\n",
       "      <th>17</th>\n",
       "      <td>2025-07-01</td>\n",
       "      <td>25/26</td>\n",
       "      <td>Royal Antwerp</td>\n",
       "      <td>Retired</td>\n",
       "      <td>NaN</td>\n",
       "      <td>2200000.0</td>\n",
       "      <td>Toby Alderweireld</td>\n",
       "      <td>2025</td>\n",
       "    </tr>\n",
       "    <tr>\n",
       "      <th>18</th>\n",
       "      <td>2025-07-01</td>\n",
       "      <td>25/26</td>\n",
       "      <td>Khimki</td>\n",
       "      <td>Retired</td>\n",
       "      <td>NaN</td>\n",
       "      <td>100000.0</td>\n",
       "      <td>Denis Glushakov</td>\n",
       "      <td>2025</td>\n",
       "    </tr>\n",
       "    <tr>\n",
       "      <th>1228</th>\n",
       "      <td>2025-01-01</td>\n",
       "      <td>24/25</td>\n",
       "      <td>Sevilla FC</td>\n",
       "      <td>Retired</td>\n",
       "      <td>NaN</td>\n",
       "      <td>2500000.0</td>\n",
       "      <td>Jesús Navas</td>\n",
       "      <td>2025</td>\n",
       "    </tr>\n",
       "    <tr>\n",
       "      <th>3176</th>\n",
       "      <td>2024-07-11</td>\n",
       "      <td>24/25</td>\n",
       "      <td>RWDM</td>\n",
       "      <td>Retired</td>\n",
       "      <td>NaN</td>\n",
       "      <td>250000.0</td>\n",
       "      <td>Xavier Mercier</td>\n",
       "      <td>2024</td>\n",
       "    </tr>\n",
       "  </tbody>\n",
       "</table>\n",
       "</div>"
      ],
      "text/plain": [
       "     transfer_date transfer_season from_club_name to_club_name  transfer_fee  \\\n",
       "16      2025-07-01           25/26   NEC Nijmegen      Retired           NaN   \n",
       "17      2025-07-01           25/26  Royal Antwerp      Retired           NaN   \n",
       "18      2025-07-01           25/26         Khimki      Retired           NaN   \n",
       "1228    2025-01-01           24/25     Sevilla FC      Retired           NaN   \n",
       "3176    2024-07-11           24/25           RWDM      Retired           NaN   \n",
       "\n",
       "      market_value_in_eur        player_name  transfer_year  \n",
       "16               150000.0       Lasse Schöne           2025  \n",
       "17              2200000.0  Toby Alderweireld           2025  \n",
       "18               100000.0    Denis Glushakov           2025  \n",
       "1228            2500000.0        Jesús Navas           2025  \n",
       "3176             250000.0     Xavier Mercier           2024  "
      ]
     },
     "execution_count": 28,
     "metadata": {},
     "output_type": "execute_result"
    }
   ],
   "source": [
    "retired = transfers[transfers[\"to_club_name\"] == \"Retired\"]\n",
    "retired.head()"
   ]
  }
 ],
 "metadata": {
  "kernelspec": {
   "display_name": "Python 3",
   "language": "python",
   "name": "python3"
  },
  "language_info": {
   "codemirror_mode": {
    "name": "ipython",
    "version": 3
   },
   "file_extension": ".py",
   "mimetype": "text/x-python",
   "name": "python",
   "nbconvert_exporter": "python",
   "pygments_lexer": "ipython3",
   "version": "3.11.3"
  }
 },
 "nbformat": 4,
 "nbformat_minor": 2
}
